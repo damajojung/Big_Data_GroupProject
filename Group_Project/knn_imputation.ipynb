{
 "cells": [
  {
   "cell_type": "code",
   "execution_count": 1,
   "metadata": {},
   "outputs": [],
   "source": [
    "import pandas as pd\n",
    "import numpy as np\n",
    "from script import DataManager\n",
    "\n",
    "from sklearn.impute import KNNImputer\n",
    "from sklearn.preprocessing import MinMaxScaler\n",
    "\n",
    "dm = DataManager()"
   ]
  },
  {
   "cell_type": "markdown",
   "metadata": {},
   "source": [
    "#### We now have access to several DataFrames - after running the cell above:\n",
    "\n",
    "- `dm.train_df`  \n",
    "    all *train-*.csv* files concatenated into 1 **DataFrame**\n",
    "- `dm.writing_df`  \n",
    "    the *writing.json* file parsed into a **DataFrame**\n",
    "- `dm.directing_df`  \n",
    "    the *directing.json* file parsed into a **DataFrame**\n",
    "- `dm.joined_df`   \n",
    "    result of `writing_df` left-joined with `directing_df` on column *movie*)\n",
    "- `df.validation_df`  \n",
    "    the *validation_hidden.csv* file as a **DataFrame**\n",
    "- `dm.test_df`  \n",
    "    the *test_hidden.csv* file as a **DataFrame**"
   ]
  },
  {
   "cell_type": "code",
   "execution_count": 2,
   "metadata": {},
   "outputs": [
    {
     "name": "stdout",
     "output_type": "stream",
     "text": [
      "b'{\"Response\":\"False\",\"Error\":\"Invalid API key!\"}'\n"
     ]
    }
   ],
   "source": [
    "import requests\n",
    "url = \"http://www.omdbapi.com/?i=tt0010600&apikey=<>\"\n",
    "res = requests.get(url)\n",
    "print(res.content)"
   ]
  },
  {
   "cell_type": "code",
   "execution_count": 9,
   "metadata": {},
   "outputs": [
    {
     "data": {
      "text/html": [
       "<div>\n",
       "<style scoped>\n",
       "    .dataframe tbody tr th:only-of-type {\n",
       "        vertical-align: middle;\n",
       "    }\n",
       "\n",
       "    .dataframe tbody tr th {\n",
       "        vertical-align: top;\n",
       "    }\n",
       "\n",
       "    .dataframe thead th {\n",
       "        text-align: right;\n",
       "    }\n",
       "</style>\n",
       "<table border=\"1\" class=\"dataframe\">\n",
       "  <thead>\n",
       "    <tr style=\"text-align: right;\">\n",
       "      <th></th>\n",
       "      <th>tconst</th>\n",
       "      <th>primaryTitle</th>\n",
       "      <th>originalTitle</th>\n",
       "      <th>startYear</th>\n",
       "      <th>endYear</th>\n",
       "      <th>runtimeMinutes</th>\n",
       "      <th>numVotes</th>\n",
       "      <th>label</th>\n",
       "      <th>special_chars</th>\n",
       "    </tr>\n",
       "    <tr>\n",
       "      <th>index</th>\n",
       "      <th></th>\n",
       "      <th></th>\n",
       "      <th></th>\n",
       "      <th></th>\n",
       "      <th></th>\n",
       "      <th></th>\n",
       "      <th></th>\n",
       "      <th></th>\n",
       "      <th></th>\n",
       "    </tr>\n",
       "  </thead>\n",
       "  <tbody>\n",
       "    <tr>\n",
       "      <th>2</th>\n",
       "      <td>tt0009369</td>\n",
       "      <td>Mickey</td>\n",
       "      <td>Mickey</td>\n",
       "      <td>1918</td>\n",
       "      <td>\\N</td>\n",
       "      <td>93</td>\n",
       "      <td>1119.0</td>\n",
       "      <td>False</td>\n",
       "      <td></td>\n",
       "    </tr>\n",
       "    <tr>\n",
       "      <th>4</th>\n",
       "      <td>tt0010600</td>\n",
       "      <td>The Doll</td>\n",
       "      <td>Die Puppe</td>\n",
       "      <td>1919</td>\n",
       "      <td>\\N</td>\n",
       "      <td>66</td>\n",
       "      <td>1898.0</td>\n",
       "      <td>True</td>\n",
       "      <td></td>\n",
       "    </tr>\n",
       "    <tr>\n",
       "      <th>5</th>\n",
       "      <td>tt0011439</td>\n",
       "      <td>The Mark of Zorro</td>\n",
       "      <td>The Mark of Zorro</td>\n",
       "      <td>1920</td>\n",
       "      <td>\\N</td>\n",
       "      <td>79</td>\n",
       "      <td>2439.0</td>\n",
       "      <td>True</td>\n",
       "      <td></td>\n",
       "    </tr>\n",
       "    <tr>\n",
       "      <th>6</th>\n",
       "      <td>tt0011607</td>\n",
       "      <td>The Parson's Widow</td>\n",
       "      <td>Prästänkan</td>\n",
       "      <td>1920</td>\n",
       "      <td>\\N</td>\n",
       "      <td>94</td>\n",
       "      <td>1264.0</td>\n",
       "      <td>True</td>\n",
       "      <td></td>\n",
       "    </tr>\n",
       "    <tr>\n",
       "      <th>7</th>\n",
       "      <td>tt0011841</td>\n",
       "      <td>Way Down East</td>\n",
       "      <td>Way Down East</td>\n",
       "      <td>1920</td>\n",
       "      <td>\\N</td>\n",
       "      <td>145</td>\n",
       "      <td>5376.0</td>\n",
       "      <td>True</td>\n",
       "      <td></td>\n",
       "    </tr>\n",
       "  </tbody>\n",
       "</table>\n",
       "</div>"
      ],
      "text/plain": [
       "          tconst        primaryTitle      originalTitle startYear endYear  \\\n",
       "index                                                                       \n",
       "2      tt0009369              Mickey             Mickey      1918      \\N   \n",
       "4      tt0010600            The Doll          Die Puppe      1919      \\N   \n",
       "5      tt0011439   The Mark of Zorro  The Mark of Zorro      1920      \\N   \n",
       "6      tt0011607  The Parson's Widow         Prästänkan      1920      \\N   \n",
       "7      tt0011841       Way Down East      Way Down East      1920      \\N   \n",
       "\n",
       "      runtimeMinutes numVotes  label special_chars  \n",
       "index                                               \n",
       "2                 93   1119.0  False                \n",
       "4                 66   1898.0   True                \n",
       "5                 79   2439.0   True                \n",
       "6                 94   1264.0   True                \n",
       "7                145   5376.0   True                "
      ]
     },
     "execution_count": 9,
     "metadata": {},
     "output_type": "execute_result"
    }
   ],
   "source": [
    "dm.train_df.head()"
   ]
  },
  {
   "cell_type": "markdown",
   "metadata": {},
   "source": [
    "# Imputation"
   ]
  },
  {
   "cell_type": "code",
   "execution_count": 10,
   "metadata": {},
   "outputs": [
    {
     "data": {
      "text/plain": [
       "tconst            0\n",
       "primaryTitle      0\n",
       "originalTitle     0\n",
       "startYear         0\n",
       "endYear           0\n",
       "runtimeMinutes    0\n",
       "numVotes          0\n",
       "label             0\n",
       "special_chars     0\n",
       "dtype: int64"
      ]
     },
     "execution_count": 10,
     "metadata": {},
     "output_type": "execute_result"
    }
   ],
   "source": [
    "dm.train_df.isna().sum()"
   ]
  },
  {
   "cell_type": "code",
   "execution_count": 11,
   "metadata": {},
   "outputs": [
    {
     "name": "stdout",
     "output_type": "stream",
     "text": [
      "<class 'pandas.core.frame.DataFrame'>\n",
      "Int64Index: 7959 entries, 2 to 9999\n",
      "Data columns (total 9 columns):\n",
      " #   Column          Non-Null Count  Dtype \n",
      "---  ------          --------------  ----- \n",
      " 0   tconst          7959 non-null   object\n",
      " 1   primaryTitle    7959 non-null   object\n",
      " 2   originalTitle   7959 non-null   object\n",
      " 3   startYear       7959 non-null   object\n",
      " 4   endYear         7959 non-null   object\n",
      " 5   runtimeMinutes  7959 non-null   object\n",
      " 6   numVotes        7959 non-null   object\n",
      " 7   label           7959 non-null   bool  \n",
      " 8   special_chars   7959 non-null   object\n",
      "dtypes: bool(1), object(8)\n",
      "memory usage: 567.4+ KB\n"
     ]
    }
   ],
   "source": [
    "dm.train_df.info()"
   ]
  },
  {
   "cell_type": "markdown",
   "metadata": {},
   "source": [
    "# Imputation"
   ]
  },
  {
   "cell_type": "code",
   "execution_count": 17,
   "metadata": {},
   "outputs": [],
   "source": [
    "dm.train_df[\"endYear\"].replace({\"\\\\N\": 0}, inplace=True)\n",
    "dm.train_df[\"startYear\"].replace({\"\\\\N\": 0}, inplace=True)\n",
    "dm.train_df[\"runtimeMinutes\"].replace({\"\\\\N\": 0}, inplace=True)\n",
    "dm.train_df[\"numVotes\"].replace({\"NULL\": np.nan}, inplace=True)\n",
    "\n",
    "dm.train_df[\"startYear\"] = pd.to_numeric(dm.train_df[\"startYear\"])\n",
    "dm.train_df[\"endYear\"] = pd.to_numeric(dm.train_df[\"endYear\"])\n",
    "dm.train_df[\"label\"] = dm.train_df[\"label\"].astype(int)\n",
    "dm.train_df[\"runtimeMinutes\"] = pd.to_numeric(dm.train_df[\"runtimeMinutes\"])"
   ]
  },
  {
   "cell_type": "code",
   "execution_count": 18,
   "metadata": {},
   "outputs": [],
   "source": [
    "df = dm.train_df.drop(['tconst', 'primaryTitle', 'originalTitle', 'special_chars'], axis=1)"
   ]
  },
  {
   "cell_type": "code",
   "execution_count": 25,
   "metadata": {},
   "outputs": [
    {
     "data": {
      "text/html": [
       "<div>\n",
       "<style scoped>\n",
       "    .dataframe tbody tr th:only-of-type {\n",
       "        vertical-align: middle;\n",
       "    }\n",
       "\n",
       "    .dataframe tbody tr th {\n",
       "        vertical-align: top;\n",
       "    }\n",
       "\n",
       "    .dataframe thead th {\n",
       "        text-align: right;\n",
       "    }\n",
       "</style>\n",
       "<table border=\"1\" class=\"dataframe\">\n",
       "  <thead>\n",
       "    <tr style=\"text-align: right;\">\n",
       "      <th></th>\n",
       "      <th>startYear</th>\n",
       "      <th>endYear</th>\n",
       "      <th>runtimeMinutes</th>\n",
       "      <th>numVotes</th>\n",
       "      <th>label</th>\n",
       "    </tr>\n",
       "  </thead>\n",
       "  <tbody>\n",
       "    <tr>\n",
       "      <th>0</th>\n",
       "      <td>0.949035</td>\n",
       "      <td>0.0</td>\n",
       "      <td>0.168784</td>\n",
       "      <td>0.000047</td>\n",
       "      <td>0.0</td>\n",
       "    </tr>\n",
       "    <tr>\n",
       "      <th>1</th>\n",
       "      <td>0.949530</td>\n",
       "      <td>0.0</td>\n",
       "      <td>0.119782</td>\n",
       "      <td>0.000358</td>\n",
       "      <td>1.0</td>\n",
       "    </tr>\n",
       "    <tr>\n",
       "      <th>2</th>\n",
       "      <td>0.950025</td>\n",
       "      <td>0.0</td>\n",
       "      <td>0.143376</td>\n",
       "      <td>0.000575</td>\n",
       "      <td>1.0</td>\n",
       "    </tr>\n",
       "    <tr>\n",
       "      <th>3</th>\n",
       "      <td>0.950025</td>\n",
       "      <td>0.0</td>\n",
       "      <td>0.170599</td>\n",
       "      <td>0.000105</td>\n",
       "      <td>1.0</td>\n",
       "    </tr>\n",
       "    <tr>\n",
       "      <th>4</th>\n",
       "      <td>0.950025</td>\n",
       "      <td>0.0</td>\n",
       "      <td>0.263158</td>\n",
       "      <td>0.001748</td>\n",
       "      <td>1.0</td>\n",
       "    </tr>\n",
       "  </tbody>\n",
       "</table>\n",
       "</div>"
      ],
      "text/plain": [
       "   startYear  endYear  runtimeMinutes  numVotes  label\n",
       "0   0.949035      0.0        0.168784  0.000047    0.0\n",
       "1   0.949530      0.0        0.119782  0.000358    1.0\n",
       "2   0.950025      0.0        0.143376  0.000575    1.0\n",
       "3   0.950025      0.0        0.170599  0.000105    1.0\n",
       "4   0.950025      0.0        0.263158  0.001748    1.0"
      ]
     },
     "execution_count": 25,
     "metadata": {},
     "output_type": "execute_result"
    }
   ],
   "source": [
    "df.head()"
   ]
  },
  {
   "cell_type": "code",
   "execution_count": 20,
   "metadata": {},
   "outputs": [
    {
     "data": {
      "text/html": [
       "<div>\n",
       "<style scoped>\n",
       "    .dataframe tbody tr th:only-of-type {\n",
       "        vertical-align: middle;\n",
       "    }\n",
       "\n",
       "    .dataframe tbody tr th {\n",
       "        vertical-align: top;\n",
       "    }\n",
       "\n",
       "    .dataframe thead th {\n",
       "        text-align: right;\n",
       "    }\n",
       "</style>\n",
       "<table border=\"1\" class=\"dataframe\">\n",
       "  <thead>\n",
       "    <tr style=\"text-align: right;\">\n",
       "      <th></th>\n",
       "      <th>startYear</th>\n",
       "      <th>endYear</th>\n",
       "      <th>runtimeMinutes</th>\n",
       "      <th>numVotes</th>\n",
       "      <th>label</th>\n",
       "    </tr>\n",
       "  </thead>\n",
       "  <tbody>\n",
       "    <tr>\n",
       "      <th>0</th>\n",
       "      <td>0.949035</td>\n",
       "      <td>0.0</td>\n",
       "      <td>0.168784</td>\n",
       "      <td>0.000047</td>\n",
       "      <td>0.0</td>\n",
       "    </tr>\n",
       "    <tr>\n",
       "      <th>1</th>\n",
       "      <td>0.949530</td>\n",
       "      <td>0.0</td>\n",
       "      <td>0.119782</td>\n",
       "      <td>0.000358</td>\n",
       "      <td>1.0</td>\n",
       "    </tr>\n",
       "    <tr>\n",
       "      <th>2</th>\n",
       "      <td>0.950025</td>\n",
       "      <td>0.0</td>\n",
       "      <td>0.143376</td>\n",
       "      <td>0.000575</td>\n",
       "      <td>1.0</td>\n",
       "    </tr>\n",
       "    <tr>\n",
       "      <th>3</th>\n",
       "      <td>0.950025</td>\n",
       "      <td>0.0</td>\n",
       "      <td>0.170599</td>\n",
       "      <td>0.000105</td>\n",
       "      <td>1.0</td>\n",
       "    </tr>\n",
       "    <tr>\n",
       "      <th>4</th>\n",
       "      <td>0.950025</td>\n",
       "      <td>0.0</td>\n",
       "      <td>0.263158</td>\n",
       "      <td>0.001748</td>\n",
       "      <td>1.0</td>\n",
       "    </tr>\n",
       "    <tr>\n",
       "      <th>5</th>\n",
       "      <td>0.950520</td>\n",
       "      <td>0.0</td>\n",
       "      <td>0.123412</td>\n",
       "      <td>0.048130</td>\n",
       "      <td>1.0</td>\n",
       "    </tr>\n",
       "    <tr>\n",
       "      <th>6</th>\n",
       "      <td>0.950520</td>\n",
       "      <td>0.0</td>\n",
       "      <td>0.176044</td>\n",
       "      <td>0.001934</td>\n",
       "      <td>1.0</td>\n",
       "    </tr>\n",
       "    <tr>\n",
       "      <th>7</th>\n",
       "      <td>0.950520</td>\n",
       "      <td>0.0</td>\n",
       "      <td>0.272232</td>\n",
       "      <td>NaN</td>\n",
       "      <td>1.0</td>\n",
       "    </tr>\n",
       "    <tr>\n",
       "      <th>8</th>\n",
       "      <td>0.951014</td>\n",
       "      <td>0.0</td>\n",
       "      <td>0.165154</td>\n",
       "      <td>0.005066</td>\n",
       "      <td>1.0</td>\n",
       "    </tr>\n",
       "    <tr>\n",
       "      <th>9</th>\n",
       "      <td>0.951014</td>\n",
       "      <td>0.0</td>\n",
       "      <td>0.259528</td>\n",
       "      <td>0.000470</td>\n",
       "      <td>1.0</td>\n",
       "    </tr>\n",
       "  </tbody>\n",
       "</table>\n",
       "</div>"
      ],
      "text/plain": [
       "   startYear  endYear  runtimeMinutes  numVotes  label\n",
       "0   0.949035      0.0        0.168784  0.000047    0.0\n",
       "1   0.949530      0.0        0.119782  0.000358    1.0\n",
       "2   0.950025      0.0        0.143376  0.000575    1.0\n",
       "3   0.950025      0.0        0.170599  0.000105    1.0\n",
       "4   0.950025      0.0        0.263158  0.001748    1.0\n",
       "5   0.950520      0.0        0.123412  0.048130    1.0\n",
       "6   0.950520      0.0        0.176044  0.001934    1.0\n",
       "7   0.950520      0.0        0.272232       NaN    1.0\n",
       "8   0.951014      0.0        0.165154  0.005066    1.0\n",
       "9   0.951014      0.0        0.259528  0.000470    1.0"
      ]
     },
     "execution_count": 20,
     "metadata": {},
     "output_type": "execute_result"
    }
   ],
   "source": [
    "scaler = MinMaxScaler()\n",
    "df = pd.DataFrame(scaler.fit_transform(df), columns = df.columns)\n",
    "df.head(10)"
   ]
  },
  {
   "cell_type": "code",
   "execution_count": 21,
   "metadata": {},
   "outputs": [
    {
     "data": {
      "text/plain": [
       "startYear         False\n",
       "endYear           False\n",
       "runtimeMinutes    False\n",
       "numVotes           True\n",
       "label             False\n",
       "dtype: bool"
      ]
     },
     "execution_count": 21,
     "metadata": {},
     "output_type": "execute_result"
    }
   ],
   "source": [
    "df.isna().any()"
   ]
  },
  {
   "cell_type": "code",
   "execution_count": 22,
   "metadata": {},
   "outputs": [],
   "source": [
    "imputer = KNNImputer(n_neighbors=5)\n",
    "df = pd.DataFrame(imputer.fit_transform(df),columns = df.columns)"
   ]
  },
  {
   "cell_type": "code",
   "execution_count": 23,
   "metadata": {},
   "outputs": [
    {
     "data": {
      "text/plain": [
       "startYear         False\n",
       "endYear           False\n",
       "runtimeMinutes    False\n",
       "numVotes          False\n",
       "label             False\n",
       "dtype: bool"
      ]
     },
     "execution_count": 23,
     "metadata": {},
     "output_type": "execute_result"
    }
   ],
   "source": [
    "df.isna().any()"
   ]
  },
  {
   "cell_type": "code",
   "execution_count": 24,
   "metadata": {},
   "outputs": [
    {
     "data": {
      "text/html": [
       "<div>\n",
       "<style scoped>\n",
       "    .dataframe tbody tr th:only-of-type {\n",
       "        vertical-align: middle;\n",
       "    }\n",
       "\n",
       "    .dataframe tbody tr th {\n",
       "        vertical-align: top;\n",
       "    }\n",
       "\n",
       "    .dataframe thead th {\n",
       "        text-align: right;\n",
       "    }\n",
       "</style>\n",
       "<table border=\"1\" class=\"dataframe\">\n",
       "  <thead>\n",
       "    <tr style=\"text-align: right;\">\n",
       "      <th></th>\n",
       "      <th>startYear</th>\n",
       "      <th>endYear</th>\n",
       "      <th>runtimeMinutes</th>\n",
       "      <th>numVotes</th>\n",
       "      <th>label</th>\n",
       "    </tr>\n",
       "  </thead>\n",
       "  <tbody>\n",
       "    <tr>\n",
       "      <th>0</th>\n",
       "      <td>0.949035</td>\n",
       "      <td>0.0</td>\n",
       "      <td>0.168784</td>\n",
       "      <td>0.000047</td>\n",
       "      <td>0.0</td>\n",
       "    </tr>\n",
       "    <tr>\n",
       "      <th>1</th>\n",
       "      <td>0.949530</td>\n",
       "      <td>0.0</td>\n",
       "      <td>0.119782</td>\n",
       "      <td>0.000358</td>\n",
       "      <td>1.0</td>\n",
       "    </tr>\n",
       "    <tr>\n",
       "      <th>2</th>\n",
       "      <td>0.950025</td>\n",
       "      <td>0.0</td>\n",
       "      <td>0.143376</td>\n",
       "      <td>0.000575</td>\n",
       "      <td>1.0</td>\n",
       "    </tr>\n",
       "    <tr>\n",
       "      <th>3</th>\n",
       "      <td>0.950025</td>\n",
       "      <td>0.0</td>\n",
       "      <td>0.170599</td>\n",
       "      <td>0.000105</td>\n",
       "      <td>1.0</td>\n",
       "    </tr>\n",
       "    <tr>\n",
       "      <th>4</th>\n",
       "      <td>0.950025</td>\n",
       "      <td>0.0</td>\n",
       "      <td>0.263158</td>\n",
       "      <td>0.001748</td>\n",
       "      <td>1.0</td>\n",
       "    </tr>\n",
       "    <tr>\n",
       "      <th>5</th>\n",
       "      <td>0.950520</td>\n",
       "      <td>0.0</td>\n",
       "      <td>0.123412</td>\n",
       "      <td>0.048130</td>\n",
       "      <td>1.0</td>\n",
       "    </tr>\n",
       "    <tr>\n",
       "      <th>6</th>\n",
       "      <td>0.950520</td>\n",
       "      <td>0.0</td>\n",
       "      <td>0.176044</td>\n",
       "      <td>0.001934</td>\n",
       "      <td>1.0</td>\n",
       "    </tr>\n",
       "    <tr>\n",
       "      <th>7</th>\n",
       "      <td>0.950520</td>\n",
       "      <td>0.0</td>\n",
       "      <td>0.272232</td>\n",
       "      <td>0.001573</td>\n",
       "      <td>1.0</td>\n",
       "    </tr>\n",
       "    <tr>\n",
       "      <th>8</th>\n",
       "      <td>0.951014</td>\n",
       "      <td>0.0</td>\n",
       "      <td>0.165154</td>\n",
       "      <td>0.005066</td>\n",
       "      <td>1.0</td>\n",
       "    </tr>\n",
       "    <tr>\n",
       "      <th>9</th>\n",
       "      <td>0.951014</td>\n",
       "      <td>0.0</td>\n",
       "      <td>0.259528</td>\n",
       "      <td>0.000470</td>\n",
       "      <td>1.0</td>\n",
       "    </tr>\n",
       "  </tbody>\n",
       "</table>\n",
       "</div>"
      ],
      "text/plain": [
       "   startYear  endYear  runtimeMinutes  numVotes  label\n",
       "0   0.949035      0.0        0.168784  0.000047    0.0\n",
       "1   0.949530      0.0        0.119782  0.000358    1.0\n",
       "2   0.950025      0.0        0.143376  0.000575    1.0\n",
       "3   0.950025      0.0        0.170599  0.000105    1.0\n",
       "4   0.950025      0.0        0.263158  0.001748    1.0\n",
       "5   0.950520      0.0        0.123412  0.048130    1.0\n",
       "6   0.950520      0.0        0.176044  0.001934    1.0\n",
       "7   0.950520      0.0        0.272232  0.001573    1.0\n",
       "8   0.951014      0.0        0.165154  0.005066    1.0\n",
       "9   0.951014      0.0        0.259528  0.000470    1.0"
      ]
     },
     "execution_count": 24,
     "metadata": {},
     "output_type": "execute_result"
    }
   ],
   "source": [
    "df.head(10)"
   ]
  },
  {
   "cell_type": "code",
   "execution_count": null,
   "metadata": {},
   "outputs": [],
   "source": []
  },
  {
   "cell_type": "code",
   "execution_count": null,
   "metadata": {},
   "outputs": [],
   "source": []
  }
 ],
 "metadata": {
  "interpreter": {
   "hash": "8196d58475ab219c15789513678ff250087c2b6cddfbae49b408a898ff292dd9"
  },
  "kernelspec": {
   "display_name": "Python 3.9.10 ('bd')",
   "language": "python",
   "name": "python3"
  },
  "language_info": {
   "codemirror_mode": {
    "name": "ipython",
    "version": 3
   },
   "file_extension": ".py",
   "mimetype": "text/x-python",
   "name": "python",
   "nbconvert_exporter": "python",
   "pygments_lexer": "ipython3",
   "version": "3.7.10"
  },
  "orig_nbformat": 4
 },
 "nbformat": 4,
 "nbformat_minor": 2
}
