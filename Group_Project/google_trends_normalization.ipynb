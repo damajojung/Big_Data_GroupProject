{
 "cells": [
  {
   "cell_type": "code",
   "execution_count": 2,
   "metadata": {},
   "outputs": [],
   "source": [
    "import pandas as pd\n",
    "\n",
    "csv_list = [\"./google_trends_movies/\" + s for s in os.listdir(\"./google_trends_movies/\")]\n",
    "values_raw = {}\n",
    "for i in range(len(csv_list)):\n",
    "    values_raw[f\"df_{i}\"] = pd.read_csv(csv_list[i])"
   ]
  },
  {
   "cell_type": "code",
   "execution_count": 4,
   "metadata": {},
   "outputs": [
    {
     "name": "stdout",
     "output_type": "stream",
     "text": [
      "4330\n"
     ]
    }
   ],
   "source": [
    "#We isolate one of the dataframe to be used as reference\n",
    "average_1 = values_raw[\"df_1\"].mean().to_dict()\n",
    "averages = {} #We store the final normalized values in this dictionary\n",
    "for item in average_1: #We fill the dictionary with the first batch of reference values\n",
    "    averages[item] = average_1[item]\n",
    "\n",
    "for key in values_raw: #We iterate through our dictionary of dataframes\n",
    "    if key != \"df_1\": #If the key is not the one used for normalization\n",
    "        temp_dict = values_raw[key].mean().to_dict() #We create a temporary dictionary of means column values\n",
    "        \n",
    "        #We calculate the normalization factor using the line below and the movie of reference \n",
    "        normalization_factor = average_1[\"The Shawshank Redemption\"]/temp_dict[\"The Shawshank Redemption\"]\n",
    "\n",
    "        for element in temp_dict: #We iterate through our temporary dictionary\n",
    "            averages[element] = temp_dict[element]*normalization_factor #We add the values of the movie normalized by the factor\n",
    "print(len(averages))\n",
    "#print(averages)\n",
    "with open('google_trends_movies.csv', 'w') as f:\n",
    "    for key in averages.keys():\n",
    "        f.write(\"%s,%s\\n\"%(key,averages[key]))"
   ]
  }
 ],
 "metadata": {
  "interpreter": {
   "hash": "d90f770c168f892c763cb6e5d30539d48ced35441e74243f5f187f186c59554a"
  },
  "kernelspec": {
   "display_name": "Python 3.7.9 64-bit",
   "language": "python",
   "name": "python3"
  },
  "language_info": {
   "codemirror_mode": {
    "name": "ipython",
    "version": 3
   },
   "file_extension": ".py",
   "mimetype": "text/x-python",
   "name": "python",
   "nbconvert_exporter": "python",
   "pygments_lexer": "ipython3",
   "version": "3.7.9"
  },
  "orig_nbformat": 4
 },
 "nbformat": 4,
 "nbformat_minor": 2
}
